{
 "cells": [
  {
   "cell_type": "markdown",
   "id": "07ba32ec",
   "metadata": {},
   "source": [
    "# Connecting to Postgres"
   ]
  },
  {
   "cell_type": "code",
   "execution_count": 2,
   "id": "41eb7084",
   "metadata": {},
   "outputs": [],
   "source": [
    "import psycopg2"
   ]
  },
  {
   "cell_type": "code",
   "execution_count": 8,
   "id": "2dd226d4",
   "metadata": {},
   "outputs": [],
   "source": [
    "import env_password"
   ]
  },
  {
   "cell_type": "code",
   "execution_count": 7,
   "id": "5d689233",
   "metadata": {},
   "outputs": [],
   "source": [
    "con = psycopg2.connect(f\"host=127.0.0.1 dbname=Employees user={} password=postgres\")"
   ]
  },
  {
   "cell_type": "code",
   "execution_count": 9,
   "id": "e038785e",
   "metadata": {},
   "outputs": [],
   "source": [
    "con.close()"
   ]
  },
  {
   "cell_type": "code",
   "execution_count": null,
   "id": "29084249",
   "metadata": {},
   "outputs": [],
   "source": []
  }
 ],
 "metadata": {
  "kernelspec": {
   "display_name": "Python 3 (ipykernel)",
   "language": "python",
   "name": "python3"
  },
  "language_info": {
   "codemirror_mode": {
    "name": "ipython",
    "version": 3
   },
   "file_extension": ".py",
   "mimetype": "text/x-python",
   "name": "python",
   "nbconvert_exporter": "python",
   "pygments_lexer": "ipython3",
   "version": "3.9.5"
  }
 },
 "nbformat": 4,
 "nbformat_minor": 5
}
