{
 "cells": [
  {
   "cell_type": "markdown",
   "id": "eee96726",
   "metadata": {},
   "source": [
    "# Connecting to Postgres"
   ]
  },
  {
   "cell_type": "code",
   "execution_count": 1,
   "id": "edb0b614",
   "metadata": {},
   "outputs": [],
   "source": [
    "import psycopg2\n",
    "from pprint import pprint"
   ]
  },
  {
   "cell_type": "code",
   "execution_count": 4,
   "id": "e8aaf157",
   "metadata": {},
   "outputs": [],
   "source": [
    "import env_var"
   ]
  },
  {
   "cell_type": "code",
   "execution_count": 5,
   "id": "ced02749",
   "metadata": {},
   "outputs": [],
   "source": [
    "try:\n",
    "    conn = psycopg2.connect(f\"host=127.0.0.1 dbname={env_var.dbname} user={env_var.user} password={env_var.password}\")\n",
    "except psycopg2.Error as e:\n",
    "    print(f\"Error: Couldn't connect to the Postgres database with user: {env_var.user}\")\n",
    "    print(e)"
   ]
  },
  {
   "cell_type": "code",
   "execution_count": 6,
   "id": "deb0b61e",
   "metadata": {},
   "outputs": [],
   "source": [
    "try:\n",
    "    cur = conn.cursor()\n",
    "except psycopg2.Error as e:\n",
    "    print(f\"Error: Couldn't get cursor to the database\")\n",
    "    print(e)"
   ]
  },
  {
   "cell_type": "code",
   "execution_count": 51,
   "id": "eb759bef",
   "metadata": {},
   "outputs": [],
   "source": [
    "conn.close()\n",
    "cur.close()"
   ]
  },
  {
   "cell_type": "code",
   "execution_count": 7,
   "id": "da2f73ca",
   "metadata": {},
   "outputs": [],
   "source": [
    "conn.set_session(autocommit=True)"
   ]
  },
  {
   "cell_type": "code",
   "execution_count": 8,
   "id": "4baa60d0",
   "metadata": {},
   "outputs": [],
   "source": [
    "try:\n",
    "    cur.execute(\"\"\"CREATE TABLE IF NOT EXISTS music_library (\n",
    "                album_name VARCHAR(255), artist_name VARCHAR(255), year INT)\"\"\")\n",
    "except psycopg.Error as e:\n",
    "    print(\"Error: Issue with creating table\")\n",
    "    print(e)"
   ]
  },
  {
   "cell_type": "code",
   "execution_count": 20,
   "id": "6d2bd46d",
   "metadata": {},
   "outputs": [
    {
     "name": "stdout",
     "output_type": "stream",
     "text": [
      "('Let It be', 'The Beatles', 1970)\n"
     ]
    }
   ],
   "source": [
    "try:\n",
    "    cur.execute(\"SELECT * from music_library\")\n",
    "except psycopg.Error as e:\n",
    "    print(\"Error: Issue with creating table\")\n",
    "    print(e)\n",
    "    \n",
    "print(cur.fetchone())"
   ]
  },
  {
   "cell_type": "code",
   "execution_count": 14,
   "id": "98292f51",
   "metadata": {},
   "outputs": [],
   "source": [
    "try:\n",
    "    cur.execute(\"\"\"INSERT INTO music_library \n",
    "                    (album_name, artist_name , year)\n",
    "                    VALUES (%s, %s, %s)\"\"\",\n",
    "                    (\"Hey Judes\", \"The Beatles\", 1973))\n",
    "except psycopg.Error as e:\n",
    "    print(\"Error: Issue with creating table\")\n",
    "    print(e)"
   ]
  },
  {
   "cell_type": "code",
   "execution_count": 21,
   "id": "2cf79c6f",
   "metadata": {},
   "outputs": [
    {
     "name": "stdout",
     "output_type": "stream",
     "text": [
      "('Hey Judes', 'The Beatles', 1973)\n"
     ]
    }
   ],
   "source": [
    "print(cur.fetchone())"
   ]
  },
  {
   "cell_type": "code",
   "execution_count": null,
   "id": "ce8280b1",
   "metadata": {},
   "outputs": [],
   "source": [
    "cur.close()\n",
    "conn.close()"
   ]
  }
 ],
 "metadata": {
  "kernelspec": {
   "display_name": "Python 3 (ipykernel)",
   "language": "python",
   "name": "python3"
  },
  "language_info": {
   "codemirror_mode": {
    "name": "ipython",
    "version": 3
   },
   "file_extension": ".py",
   "mimetype": "text/x-python",
   "name": "python",
   "nbconvert_exporter": "python",
   "pygments_lexer": "ipython3",
   "version": "3.9.5"
  }
 },
 "nbformat": 4,
 "nbformat_minor": 5
}
